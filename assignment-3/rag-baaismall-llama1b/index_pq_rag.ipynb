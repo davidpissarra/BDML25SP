{
 "cells": [
  {
   "cell_type": "code",
   "execution_count": 1,
   "metadata": {},
   "outputs": [
    {
     "name": "stderr",
     "output_type": "stream",
     "text": [
      "/home/ddp8196/miniconda3/envs/bdml/lib/python3.12/site-packages/tqdm/auto.py:21: TqdmWarning: IProgress not found. Please update jupyter and ipywidgets. See https://ipywidgets.readthedocs.io/en/stable/user_install.html\n",
      "  from .autonotebook import tqdm as notebook_tqdm\n"
     ]
    }
   ],
   "source": [
    "from transformers import AutoTokenizer, AutoModelForCausalLM, TextStreamer\n",
    "from langchain.text_splitter import CharacterTextSplitter\n",
    "from sentence_transformers import SentenceTransformer\n",
    "from tqdm import tqdm\n",
    "import numpy as np\n",
    "import torch\n",
    "import faiss\n",
    "import json\n",
    "import math\n",
    "import time\n",
    "import os\n",
    "\n",
    "DECODER_PATH='../../Llama-3.2-1B-Instruct'\n",
    "ENCODER_PATH = \"../../bge-small-en\"\n",
    "DEVICE = torch.device(\"cuda:0\" if torch.cuda.is_available() else \"cpu\")\n",
    "\n",
    "DOCS_PATH = \"../../dataset_txt_small/train\"\n",
    "QUESTIONS_PATH = \"../rag_questions_json\""
   ]
  },
  {
   "cell_type": "code",
   "execution_count": 2,
   "metadata": {},
   "outputs": [],
   "source": [
    "class RAGEngine:\n",
    "    def __init__(self):\n",
    "        self.decoder = AutoModelForCausalLM.from_pretrained(DECODER_PATH, torch_dtype=torch.bfloat16).to(DEVICE)\n",
    "        self.encoder = SentenceTransformer(ENCODER_PATH).to(DEVICE)\n",
    "\n",
    "        self.decoder.config.use_cache = True\n",
    "\n",
    "        self.tokenizer = AutoTokenizer.from_pretrained(DECODER_PATH)\n",
    "\n",
    "    def embed_documents(self, docs):\n",
    "        return self.encoder.encode(docs)\n",
    "\n",
    "    def embed_query(self, query):\n",
    "        return self.encoder.encode([query])\n",
    "    \n",
    "engine = RAGEngine()"
   ]
  },
  {
   "cell_type": "code",
   "execution_count": 3,
   "metadata": {},
   "outputs": [
    {
     "name": "stderr",
     "output_type": "stream",
     "text": [
      "100%|██████████| 747/747 [00:00<00:00, 2218.64it/s]\n"
     ]
    }
   ],
   "source": [
    "docs = [(fn.split(\".\")[0], open(os.path.join(DOCS_PATH, fn), 'r', encoding='utf-8').read()) for fn in tqdm(os.listdir(DOCS_PATH)) if fn.endswith(\".txt\")]"
   ]
  },
  {
   "cell_type": "code",
   "execution_count": 4,
   "metadata": {},
   "outputs": [
    {
     "name": "stderr",
     "output_type": "stream",
     "text": [
      "100%|██████████| 747/747 [00:00<00:00, 1038.22it/s]\n"
     ]
    }
   ],
   "source": [
    "MAX_CHAR_LEN = 4000\n",
    "MAX_CHAR_OVERLAP = 500\n",
    "splitter = CharacterTextSplitter(separator=\" \", chunk_size=MAX_CHAR_LEN, chunk_overlap=MAX_CHAR_OVERLAP)\n",
    "split_docs = []\n",
    "for doc in tqdm(docs):\n",
    "    split_docs.extend(splitter.split_text(doc[1]) if len(doc[1]) > MAX_CHAR_LEN else [doc[1]])"
   ]
  },
  {
   "cell_type": "code",
   "execution_count": 5,
   "metadata": {},
   "outputs": [],
   "source": [
    "doc_embeddings = engine.embed_documents(split_docs)"
   ]
  },
  {
   "cell_type": "code",
   "execution_count": 6,
   "metadata": {},
   "outputs": [],
   "source": [
    "def create_chat(context, question):\n",
    "    return [\n",
    "        {\"role\": \"system\", \"content\": f\"Use only the following pieces of context to answer the question at the end. Different references are seperated by \\\"\\n\\n\\\". Please only use the references relevant to answer the question f{context}\"},\n",
    "        {\"role\": \"user\", \"content\": f\"{question}\"},\n",
    "    ]"
   ]
  },
  {
   "cell_type": "code",
   "execution_count": 7,
   "metadata": {},
   "outputs": [],
   "source": [
    "TOP_K_DOCS = 3\n",
    "D = doc_embeddings.shape[1]\n",
    "m = 8\n",
    "assert D % m == 0\n",
    "nbits = 5\n",
    "index = faiss.IndexPQ(D, m, nbits)\n",
    "index.train(doc_embeddings)\n",
    "index.add(doc_embeddings)"
   ]
  },
  {
   "cell_type": "markdown",
   "metadata": {},
   "source": [
    "### Example question"
   ]
  },
  {
   "cell_type": "code",
   "execution_count": 8,
   "metadata": {},
   "outputs": [
    {
     "name": "stdout",
     "output_type": "stream",
     "text": [
      "<|begin_of_text|><|start_header_id|>system<|end_header_id|>\n",
      "\n",
      "Cutting Knowledge Date: December 2023\n",
      "Today Date: 21 Apr 2025\n",
      "\n",
      "Use only the following pieces of context to answer the question at the end. Different references are seperated by \"\n",
      "\n",
      "\". Please only use the references relevant to answer the question f  Co-Director of Science  T. Eren Bilir Monalisa Chatterjee Kristie L. Ebi Yuka Otsuki Estrada Robert C. Genova Betelhem Girma  Eric S. Kissel Andrew N. Levy Sandy MacCracken Patricia R. Mastrandrea Leslie L. White 32 Avenue of the Americas, New York, NY 10013-2473, USA  Cambridge University Press is part of the University of Cambridge. It furthers the University’s mission by disseminating knowledge in the pursuit of education, learning, and research at the highest international levels of excellence.  www.cambridge.org  Information on this title: www.cambridge.org/9781107641655  © Intergovernmental Panel on Climate Change 2014  This publication is in copyright. Subject to statutory exception  and to the provisions of relevant collective licensing agreements, no reproduction of any part may take place without the written  permission of Cambridge University Press. First published 2014  Printed in the United States of America  A catalog record for this publication is available from the British Library.  ISBN 978-1-107-05807-1 Hardback  ISBN 978-1-107-64165-5 Paperback  Cambridge University Press has no responsibility for the persistence or accuracy of URLs for external or third-party Internet Web sites referred to in this publication and  does not guarantee that any content on such Web sites is, or will remain, accurate or appropriate. This book was printed on acid-free stock that is from SFI (Sustainable Forestry Initiative) certified mills and distributors. It is FSC chain-of-custody certified. Use the following reference to cite Part A:  IPCC, 2014: Climate Change 2014: Impacts, Adaptation, and Vulnerability. Part A:  Global and Sectoral Aspects. Contribution of Working Group II to the Fifth  Assessment Report of the Intergovernmental Panel on Climate Change  [Field, C.B., V.R. Barros, D.J. Dokken, K.J. Mach, M.D. Mastrandrea, T.E. Bilir, M. Chatterjee, K.L. Ebi, Y.O. Estrada, R.C. Genova, B. Girma, E.S. Kissel, A.N. Levy, S. MacCracken, P.R. Mastrandrea, and L.L. White (eds.)]. Cambridge University  Press, Cambridge, United Kingdom and New York, NY, USA, 1132 pp. Cover Photo:  Planting of mangrove seedlings in Funafala, Funafuti Atoll, Tuvalu. © David J. Wilson  iii Contents          Front Matter             Foreword ...................................................................................................... vii                                          Preface ......................................................................................................... ix                                          Dedication .................................................................................................... xiii                          SPM             Summary for Policymakers .................................................................................. 1                             TS             Technical Summary ....................................\n",
      "\n",
      " United States of America) Contributing Authors: William Anderegg (The United States of America), Edward Armstrong (United Kingdom),  Ana  Bastos (Portugal/Germany), Terje Koren Bernsten (Norway), Peng Cai (China),  Katherine  Calvin (The United States of America), Francesco Cherubini (Italy), Sarah Connors  (France/United Kingdom), Annette Cowie (Australia), Edouard Davin (Switzerland/France),  Cecile De Klein (New Zealand), Giacomo Grassi (Italy/European Union), Rafiq Hamdi (Belgium),  Florian Humpenöder (Germany), David Kanter (The United States of America), Gerhard Krinner  (France), Sonali McDermid (India/The United States of America), Devaraju Narayanappa (India/ France), Josep Peñuelas (Spain), Prajal Pradhan (Nepal), Benjamin Quesada (Colombia),  Stephanie Roe (The Philippines/The United States of America), Robert A. Rohde (The United States  of America), Martijn Slot (Panama), Rolf Sommer (Germany), Moa Sporre (Norway), Benjamin  Sulman (The United States of America), Alasdair Sykes (United Kingdom), Phil Williamson  (United Kingdom), Yuyu Zhou (China) Review Editors: Pierre Bernier (Canada), Jhan Carlo Espinoza (Peru), Sergey Semenov (The Russian Federation) Chapter Scientist: Xiyan Xu (China) This chapter should be cited as: Jia, G., E. Shevliakova, P. Artaxo, N. De Noblet-Ducoudré, R. Houghton, J. House, K. Kitajima, C. Lennard, A. Popp,  A. Sirin, R. Sukumar, L. Verchot, 2019: Land–climate interactions. In: Climate Change and Land: an IPCC special report  on climate change, desertification, land degradation, sustainable land management, food security, and greenhouse gas  fluxes in terrestrial ecosystems [P.R. Shukla, J. Skea, E. Calvo Buendia, V. Masson-Delmotte, H.-O. Pörtner, D.C. Roberts,  P. Zhai, R. Slade, S. Connors, R. van Diemen, M. Ferrat, E. Haughey, S. Luz, S. Neogi, M. Pathak, J. Petzold, J. Portugal  Pereira, P. Vyas, E. Huntley, K. Kissick, M, Belkacemi, J. Malley, (eds.)]. https://doi.org/10.1017/9781009157988.004132 Chapter 2 Land–climate interactions2Table of contents Executive summary    ��������������������������������������������������������������������������������������   133 2.1 Introduction: Land–climate interactions    ����������������������   137 2.1.1 Recap of previous IPCC and other   relevant reports as baselines    �����������������������������������������   137 2.1.2 Introduction to the chapter structure    �����������������������   138 Box 2.1: Processes underlying   land–climate interactions  ������������������������������������������������������������� 139 2.2 The effect of climate variability   and change on land    �������������������������������������������������������������������������   140 2.2.1 Overview of climate impacts on land  ��������������������������� 140 2.2.2 Climate-driven changes in aridity    �������������������������������   142 2.2.3 The influence of climate   change on food security    ���������������������������������������������������   142 2.2.4 Climate-driven changes   in terrestrial ecosystems    ���������������������������������������������������   143 2.2.5 Climate extremes and their impact  on land functioning    �������������������������������������������������������������   144 Cross-Chapter Box 3 | Fire and climate change  ������������ 148 2.3 Greenhouse gas fluxes between   land and atmosphere   ����������������������������������������������������������������������   151 2.3.1 Carbon dioxide    �����������������������������������������������������������������������  \n",
      "\n",
      " Martin Dallimer (United Kingdom), Joris Eekhout  (The Netherlands), Karlheinz Erb (Italy), Eamon Haughey (Ireland), Richard Houghton  (The  United States of America), Muhammad Mohsin Iqbal (Pakistan), Francis  X.  Johnson  (The United States of America), Woo-Kyun Lee (The Republic of Korea), John Morton  (United Kingdom), Felipe Garcia Oliva (Mexico), Jan Petzold (Germany), Mohammad Rahimi  (Iran), Florence  Renou-Wilson (Ireland), Anna Tengberg (Sweden), Louis Verchot (Colombia/ The United States of America), Katharine Vincent (South Africa) Review Editors:  José Manuel Moreno (Spain), Carolina Vera (Argentina) Chapter Scientist:  Aliyu Salisu Barau (Nigeria) This chapter should be cited as: Olsson, L., H. Barbosa, S. Bhadwal, A. Cowie, K. Delusca, D. Flores-Renteria, K. Hermans, E. Jobbagy, W. Kurz, D. Li,  D.J. Sonwa, L. Stringer, 2019: Land Degradation. In: Climate Change and Land: an IPCC special report on climate  change, desertification, land degradation, sustainable land management, food security, and greenhouse gas fluxes in  terrestrial ecosystems [P.R. Shukla, J. Skea, E. Calvo Buendia, V. Masson-Delmotte, H.-O. Pörtner, D. C. Roberts, P. Zhai,  R. Slade, S. Connors, R. van Diemen, M. Ferrat, E. Haughey, S. Luz, S. Neogi, M. Pathak, J. Petzold, J. Portugal Pereira, P.  Vyas, E. Huntley, K. Kissick, M. Belkacemi, J. Malley, (eds.)]. https://doi.org/10.1017/9781009157988.006346 Chapter 4 Land degradation4 Table of contents Executive summary    �������������������������������������������������������������������������������������   347 4.1 Introduction    �������������������������������������������������������������������������������������������   349 4.1.1 Scope of the chapter  �������������������������������������������������������������� 349 4.1.2 Perspectives of land degradation    �������������������������������   349 4.1.3 Definition of land degradation    �����������������������������������   349 4.1.4 Land degradation in previous IPCC reports    �������   350 4.1.5 Sustainable land management (SLM)  and sustainable forest management (SFM)    ��������   351 4.1.6 The human dimension of land   degradation and forest degradation    ����������������������   353 4.2 Land degradation in the context   of climate change    ��������������������������������������������������������������������   353 4.2.1 Processes of land degradation   �������������������������������������   354 4.2.2 Drivers of land degradation    �������������������������������������������   359 4.2.3 Attribution in the case of land degradation    ��������   360 4.2.4 Approaches to assessing land degradation    ���������   363 4.3 Status and current trends of land degradation    ������   365 4.3.1 Land degradation    ���������������������������������������������������������������   365 4.3.2 Forest degradation    �������������������������������������������������������������   367 4.4 Projections of land degradation   in a changing climate    �����������������������������������������������������������   369 4.4.1 Direct impacts on land degradation    �����������������������   369 4.4.2 Indirect impacts on land degradation    ���������������������   373 4.5 Impacts of bioenergy and technologies for   CO2 removal (CDR) on land degradation    ������������   373 4.5.1 Potential scale of bioenergy   and land-based CDR  ������������������������������������������������������������� 373 4.5.2 Risks of land degradation<|eot_id|><|start_header_id|>user<|end_header_id|>\n",
      "\n",
      "What are the main indicators that were chosen to study in order to understand and forecast the evolution of carbon emissions on a country-scale, and why were they chosen?<|eot_id|><|start_header_id|>assistant<|end_header_id|>\n",
      "\n",
      "\n"
     ]
    }
   ],
   "source": [
    "question = \"What are the main indicators that were chosen to study in order to understand and forecast the evolution of carbon emissions on a country-scale, and why were they chosen?\"\n",
    "query_vec = engine.embed_query(question)\n",
    "distances, indices = index.search(query_vec, TOP_K_DOCS)\n",
    "top_docs = [split_docs[i] for i in indices[0]]\n",
    "context = \"\\n\\n\".join(top_docs)\n",
    "prompt_with_context = engine.tokenizer.apply_chat_template(\n",
    "    create_chat(context, question), \n",
    "    tokenize=False, \n",
    "    add_generation_prompt=True\n",
    ")\n",
    "print(prompt_with_context)"
   ]
  },
  {
   "cell_type": "code",
   "execution_count": 9,
   "metadata": {},
   "outputs": [
    {
     "name": "stdout",
     "output_type": "stream",
     "text": [
      "According to the provided text, the main indicators used to study the evolution of carbon emissions on a country-scale to understand and forecast its impact on climate change are:\n",
      "\n",
      "1. **Carbon dioxide (CO2) fluxes**: This is a key indicator of greenhouse gas emissions, which are a major contributor to climate change.\n",
      "\n",
      "2. **Land use changes**: This includes changes in land use such as deforestation, land conversion, and land cover changes, which are significant contributors to carbon emissions.\n",
      "\n",
      "3. **Land degradation**: This includes processes such as soil degradation, loss of forests, and loss of agricultural productivity, which also contribute to carbon emissions.\n",
      "\n",
      "4. **Forest degradation**: This includes the loss of forests, which is a significant contributor to carbon emissions.\n",
      "\n",
      "5. **Greenhouse gas fluxes**: This includes the fluxes of other greenhouse gases such as methane, nitrous oxide, and nitric acid, which are also significant contributors to climate change.\n",
      "\n",
      "The text does not specify the exact indicators used for each of these categories, but it mentions that they were chosen to:\n",
      "\n",
      "* Understand the evolution of carbon emissions on a country-scale\n",
      "* Forecast the impact of climate change on the country\n",
      "* Identify the drivers of carbon emissions\n",
      "* Assess the current trends of carbon emissions\n",
      "* Project future changes in carbon emissions\n",
      "\n",
      "These indicators were chosen because they are relevant to understanding and managing climate change, and they provide a comprehensive picture of the country's carbon footprint.<|eot_id|>\n"
     ]
    }
   ],
   "source": [
    "streamer = TextStreamer(engine.tokenizer, skip_prompt=True)\n",
    "\n",
    "input_ids = engine.tokenizer.encode(prompt_with_context, return_tensors=\"pt\").to(DEVICE)\n",
    "outputs = engine.decoder.generate(\n",
    "    input_ids,\n",
    "    max_new_tokens=500,\n",
    "    pad_token_id=128004,\n",
    "    eos_token_id=128009,\n",
    "    streamer=streamer,\n",
    "    do_sample=True,\n",
    ")"
   ]
  },
  {
   "cell_type": "markdown",
   "metadata": {},
   "source": [
    "### Evaluation (Perplexity)"
   ]
  },
  {
   "cell_type": "code",
   "execution_count": 10,
   "metadata": {},
   "outputs": [],
   "source": [
    "def create_target_chat(context, question, answer):\n",
    "    return [\n",
    "        {\"role\": \"system\", \"content\": f\"Use only the following pieces of context to answer the question at the end. Different references are seperated by \\\"\\n\\n\\\". Please only use the references relevant to answer the question f{context}\"},\n",
    "        {\"role\": \"user\", \"content\": f\"{question}\"},\n",
    "        {\"role\": \"assistant\", \"content\": f\"{answer}\"},\n",
    "    ]"
   ]
  },
  {
   "cell_type": "code",
   "execution_count": 11,
   "metadata": {},
   "outputs": [
    {
     "name": "stderr",
     "output_type": "stream",
     "text": [
      "100%|██████████| 747/747 [00:48<00:00, 15.52it/s]"
     ]
    },
    {
     "name": "stdout",
     "output_type": "stream",
     "text": [
      "Perplexity: 7.70\n"
     ]
    },
    {
     "name": "stderr",
     "output_type": "stream",
     "text": [
      "\n"
     ]
    }
   ],
   "source": [
    "loss = 0\n",
    "losses = list()\n",
    "\n",
    "for d in tqdm(docs):\n",
    "    with open(os.path.join(QUESTIONS_PATH, f\"{d[0]}.json\"), 'r', encoding='utf-8') as f:\n",
    "        qa = json.load(f)\n",
    "\n",
    "    query_vec = engine.embed_query(qa[\"question\"])\n",
    "    distances, indices = index.search(query_vec, TOP_K_DOCS)\n",
    "    top_docs = [split_docs[i] for i in indices[0]]\n",
    "    context = \"\\n\\n\".join(top_docs)\n",
    "    target_chat = engine.tokenizer.apply_chat_template(\n",
    "        create_target_chat(context, qa[\"question\"], qa[\"answer\"]), \n",
    "        tokenize=False, \n",
    "        add_generation_prompt=False\n",
    "    )\n",
    "    tokens = engine.tokenizer(target_chat, return_tensors=\"pt\", truncation=False, padding=False, add_special_tokens=False).to(DEVICE)\n",
    "    tokens = {k: v.to(DEVICE) for k, v in tokens.items()}\n",
    "\n",
    "    prompt = engine.tokenizer.apply_chat_template(\n",
    "        create_chat(context, qa[\"question\"]), \n",
    "        tokenize=False, \n",
    "        add_generation_prompt=True\n",
    "    )\n",
    "    ignore_idx = engine.tokenizer.encode(prompt, return_tensors=\"pt\", truncation=False, padding=False, add_special_tokens=False).shape[1]\n",
    "\n",
    "    filtered_labels = tokens[\"input_ids\"].clone()\n",
    "    ignore_mask = torch.zeros_like(filtered_labels, dtype=torch.bool)\n",
    "    ignore_mask[0, :ignore_idx] = True\n",
    "    filtered_labels[ignore_mask] = -100\n",
    "\n",
    "    with torch.no_grad():\n",
    "        outputs = engine.decoder(**tokens, labels=filtered_labels)\n",
    "        losses.append(outputs.loss.item())\n",
    "        loss += outputs.loss.item()\n",
    "\n",
    "perplexity = math.exp(loss/len(docs))\n",
    "print(f\"Perplexity: {perplexity:.2f}\")"
   ]
  },
  {
   "cell_type": "markdown",
   "metadata": {},
   "source": [
    "### Evaluation (Average time per request)"
   ]
  },
  {
   "cell_type": "code",
   "execution_count": 12,
   "metadata": {},
   "outputs": [
    {
     "name": "stderr",
     "output_type": "stream",
     "text": [
      "  0%|          | 0/747 [00:00<?, ?it/s]/home/ddp8196/miniconda3/envs/bdml/lib/python3.12/site-packages/transformers/generation/configuration_utils.py:631: UserWarning: `do_sample` is set to `False`. However, `temperature` is set to `0.6` -- this flag is only used in sample-based generation modes. You should set `do_sample=True` or unset `temperature`.\n",
      "  warnings.warn(\n",
      "100%|██████████| 747/747 [1:20:16<00:00,  6.45s/it]"
     ]
    },
    {
     "name": "stdout",
     "output_type": "stream",
     "text": [
      "Average time per request: 6.45 seconds\n"
     ]
    },
    {
     "name": "stderr",
     "output_type": "stream",
     "text": [
      "\n"
     ]
    }
   ],
   "source": [
    "begin = time.time()\n",
    "\n",
    "for d in tqdm(docs):\n",
    "    with open(os.path.join(QUESTIONS_PATH, f\"{d[0]}.json\"), 'r', encoding='utf-8') as f:\n",
    "        qa = json.load(f)\n",
    "\n",
    "    query_vec = engine.embed_query(qa[\"question\"])\n",
    "    distances, indices = index.search(query_vec, TOP_K_DOCS)\n",
    "    top_docs = [split_docs[i] for i in indices[0]]\n",
    "    context = \"\\n\\n\".join(top_docs)\n",
    "\n",
    "    prompt = engine.tokenizer.apply_chat_template(\n",
    "        create_chat(context, qa[\"question\"]), \n",
    "        tokenize=False, \n",
    "        add_generation_prompt=True\n",
    "    )\n",
    "    input_ids = engine.tokenizer.encode(prompt, return_tensors=\"pt\").to(DEVICE)\n",
    "    engine.decoder.generate(\n",
    "        input_ids,\n",
    "        max_new_tokens=500,\n",
    "        pad_token_id=128004,\n",
    "        eos_token_id=128009,\n",
    "        do_sample=False,\n",
    "        top_p=1.0,\n",
    "    )\n",
    "\n",
    "print(f\"Average time per request: {(time.time() - begin) / len(docs):.2f} seconds\")"
   ]
  }
 ],
 "metadata": {
  "kernelspec": {
   "display_name": "bdml",
   "language": "python",
   "name": "python3"
  },
  "language_info": {
   "codemirror_mode": {
    "name": "ipython",
    "version": 3
   },
   "file_extension": ".py",
   "mimetype": "text/x-python",
   "name": "python",
   "nbconvert_exporter": "python",
   "pygments_lexer": "ipython3",
   "version": "3.12.9"
  },
  "orig_nbformat": 4
 },
 "nbformat": 4,
 "nbformat_minor": 2
}
