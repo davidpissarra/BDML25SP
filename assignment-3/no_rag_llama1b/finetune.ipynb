{
 "cells": [
  {
   "cell_type": "code",
   "execution_count": 1,
   "metadata": {},
   "outputs": [
    {
     "name": "stderr",
     "output_type": "stream",
     "text": [
      "/home/ddp8196/miniconda3/envs/bdml/lib/python3.12/site-packages/tqdm/auto.py:21: TqdmWarning: IProgress not found. Please update jupyter and ipywidgets. See https://ipywidgets.readthedocs.io/en/stable/user_install.html\n",
      "  from .autonotebook import tqdm as notebook_tqdm\n"
     ]
    },
    {
     "data": {
      "text/plain": [
       "LlamaForCausalLM(\n",
       "  (model): LlamaModel(\n",
       "    (embed_tokens): Embedding(128256, 2048)\n",
       "    (layers): ModuleList(\n",
       "      (0-15): 16 x LlamaDecoderLayer(\n",
       "        (self_attn): LlamaAttention(\n",
       "          (q_proj): Linear4bit(in_features=2048, out_features=2048, bias=False)\n",
       "          (k_proj): Linear4bit(in_features=2048, out_features=512, bias=False)\n",
       "          (v_proj): Linear4bit(in_features=2048, out_features=512, bias=False)\n",
       "          (o_proj): Linear4bit(in_features=2048, out_features=2048, bias=False)\n",
       "        )\n",
       "        (mlp): LlamaMLP(\n",
       "          (gate_proj): Linear4bit(in_features=2048, out_features=8192, bias=False)\n",
       "          (up_proj): Linear4bit(in_features=2048, out_features=8192, bias=False)\n",
       "          (down_proj): Linear4bit(in_features=8192, out_features=2048, bias=False)\n",
       "          (act_fn): SiLU()\n",
       "        )\n",
       "        (input_layernorm): LlamaRMSNorm((2048,), eps=1e-05)\n",
       "        (post_attention_layernorm): LlamaRMSNorm((2048,), eps=1e-05)\n",
       "      )\n",
       "    )\n",
       "    (norm): LlamaRMSNorm((2048,), eps=1e-05)\n",
       "    (rotary_emb): LlamaRotaryEmbedding()\n",
       "  )\n",
       "  (lm_head): Linear(in_features=2048, out_features=128256, bias=False)\n",
       ")"
      ]
     },
     "execution_count": 1,
     "metadata": {},
     "output_type": "execute_result"
    }
   ],
   "source": [
    "import os\n",
    "import torch\n",
    "from transformers import AutoModelForCausalLM, AutoTokenizer, BitsAndBytesConfig, TrainingArguments, Trainer\n",
    "from peft import prepare_model_for_kbit_training, LoraConfig, get_peft_model\n",
    "from datasets import load_dataset\n",
    "import gc\n",
    "\n",
    "# Load fine-tuned LLaMA model (Replace with your model path)\n",
    "model_name = \"../../Llama-3.2-1B-Instruct\"\n",
    "train_ds_folder = \"../finetune_summaries_json/\"\n",
    "model = AutoModelForCausalLM.from_pretrained(\n",
    "    model_name,\n",
    "    quantization_config=BitsAndBytesConfig(\n",
    "        load_in_4bit=True,\n",
    "        bnb_4bit_compute_dtype=torch.bfloat16,\n",
    "        bnb_4bit_quant_type=\"nf4\",\n",
    "    ),\n",
    ")\n",
    "tokenizer = AutoTokenizer.from_pretrained(model_name)\n",
    "tokenizer.pad_token = tokenizer.eos_token\n",
    "\n",
    "files = os.listdir(train_ds_folder)\n",
    "N_FILES = len(files)\n",
    "\n",
    "device = \"cuda\"\n",
    "model.to(device)"
   ]
  },
  {
   "cell_type": "code",
   "execution_count": 2,
   "metadata": {},
   "outputs": [
    {
     "data": {
      "text/plain": [
       "0"
      ]
     },
     "execution_count": 2,
     "metadata": {},
     "output_type": "execute_result"
    }
   ],
   "source": [
    "# QLoRA config\n",
    "lora_config = LoraConfig(\n",
    "    r=32,\n",
    "    lora_alpha=32,\n",
    "    target_modules=[\"q_proj\", \"k_proj\", \"v_proj\", \"dense\"],\n",
    "    lora_dropout=0.1,\n",
    "    bias=\"none\",\n",
    "    modules_to_save=[\"lm_head\"],\n",
    "    task_type=\"CAUSAL_LM\",\n",
    ")\n",
    "\n",
    "# Add adapters to model\n",
    "model = prepare_model_for_kbit_training(\n",
    "    model,\n",
    "    use_gradient_checkpointing=True,\n",
    "    gradient_checkpointing_kwargs={\"use_reentrant\": False},\n",
    ")\n",
    "gc.collect()\n",
    "torch.cuda.empty_cache()\n",
    "gc.collect()\n",
    "model = get_peft_model(model, lora_config)\n",
    "\n",
    "# disable KV cache due to memory consumption (no need here)\n",
    "model.config.use_cache = False\n",
    "\n",
    "gc.collect()\n",
    "torch.cuda.empty_cache()\n",
    "gc.collect()"
   ]
  },
  {
   "cell_type": "code",
   "execution_count": 3,
   "metadata": {},
   "outputs": [
    {
     "name": "stderr",
     "output_type": "stream",
     "text": [
      "Downloading data: 100%|██████████| 747/747 [00:00<00:00, 466936.67files/s]\n",
      "Generating train split: 747 examples [00:00, 887.93 examples/s]\n",
      "Map (num_proc=12): 100%|██████████| 747/747 [00:01<00:00, 662.74 examples/s] \n"
     ]
    }
   ],
   "source": [
    "# Load dataset\n",
    "dataset = load_dataset(\n",
    "    \"json\",\n",
    "    data_files={\n",
    "        \"train\": [train_ds_folder + filename for filename in files],\n",
    "    }\n",
    ")\n",
    "\n",
    "def create_target_chat(question, answer):\n",
    "    return [\n",
    "        {\"role\": \"user\", \"content\": f\"{question}\"},\n",
    "        {\"role\": \"assistant\", \"content\": f\"{answer}\"},\n",
    "    ]\n",
    "\n",
    "# function to tokenize dataset\n",
    "def tokenize(ds_element):\n",
    "    target_chat = tokenizer.apply_chat_template(\n",
    "        create_target_chat(ds_element[\"question\"], ds_element[\"answer\"]), \n",
    "        tokenize=False, \n",
    "        add_generation_prompt=False\n",
    "    )\n",
    "    tokenized_text = tokenizer(target_chat, truncation=False, padding=False, add_special_tokens=False)\n",
    "    return {\n",
    "        \"input_ids\": tokenized_text[\"input_ids\"],\n",
    "        \"labels\": tokenized_text[\"input_ids\"],\n",
    "        \"attention_mask\": tokenized_text[\"attention_mask\"],\n",
    "    }\n",
    "\n",
    "# apply tokenize\n",
    "dataset_tokenized = dataset.map(\n",
    "    tokenize,\n",
    "    batched=False,\n",
    "    num_proc=os.cpu_count(),  # multithreaded\n",
    "    remove_columns=[\"question\", \"answer\"],\n",
    ")"
   ]
  },
  {
   "cell_type": "code",
   "execution_count": 4,
   "metadata": {},
   "outputs": [],
   "source": [
    "IGNORE_INDEX = -100\n",
    "ATTN_IGNORE_INDEX = 0\n",
    "\n",
    "# function to batch inputs\n",
    "def collate(elements):\n",
    "    # Extract input_ids from each element and find the maximum length among them\n",
    "    tokens = [e[\"input_ids\"] for e in elements]\n",
    "    tokens_maxlen = max([len(t) for t in tokens])\n",
    "\n",
    "    for e in elements:\n",
    "        input_ids = e[\"input_ids\"]\n",
    "        labels = e[\"labels\"]\n",
    "        attention_mask = e[\"attention_mask\"]\n",
    "\n",
    "        # Calculate the padding length required to match the maximum token length\n",
    "        pad_len = tokens_maxlen - len(input_ids)\n",
    "\n",
    "        # Pad 'input_ids' with the pad token ID, 'labels' with IGNORE_INDEX, and 'attention_mask' with 0\n",
    "        input_ids.extend(pad_len * [tokenizer.pad_token_id])\n",
    "        labels.extend(pad_len * [IGNORE_INDEX])\n",
    "        attention_mask.extend(pad_len * [ATTN_IGNORE_INDEX])\n",
    "\n",
    "    # create and return batch with all the data in elements\n",
    "    batch = {\n",
    "        \"input_ids\": torch.tensor([e[\"input_ids\"] for e in elements]),\n",
    "        \"labels\": torch.tensor([e[\"labels\"] for e in elements]),\n",
    "        \"attention_mask\": torch.tensor([e[\"attention_mask\"] for e in elements]),\n",
    "    }\n",
    "    return batch"
   ]
  },
  {
   "cell_type": "code",
   "execution_count": 5,
   "metadata": {},
   "outputs": [
    {
     "name": "stderr",
     "output_type": "stream",
     "text": [
      "/tmp/ipykernel_69547/2664947052.py:29: FutureWarning: `tokenizer` is deprecated and will be removed in version 5.0.0 for `Trainer.__init__`. Use `processing_class` instead.\n",
      "  trainer = Trainer(\n",
      "No label_names provided for model class `PeftModelForCausalLM`. Since `PeftModel` hides base models input arguments, if label_names is not given, label_names can't be set automatically within `Trainer`. Note that empty label_names list will be used instead.\n"
     ]
    },
    {
     "data": {
      "text/html": [
       "\n",
       "    <div>\n",
       "      \n",
       "      <progress value='460' max='460' style='width:300px; height:20px; vertical-align: middle;'></progress>\n",
       "      [460/460 34:55, Epoch 9/10]\n",
       "    </div>\n",
       "    <table border=\"1\" class=\"dataframe\">\n",
       "  <thead>\n",
       " <tr style=\"text-align: left;\">\n",
       "      <th>Step</th>\n",
       "      <th>Training Loss</th>\n",
       "      <th>Validation Loss</th>\n",
       "    </tr>\n",
       "  </thead>\n",
       "  <tbody>\n",
       "    <tr>\n",
       "      <td>46</td>\n",
       "      <td>1.717300</td>\n",
       "      <td>1.692706</td>\n",
       "    </tr>\n",
       "    <tr>\n",
       "      <td>92</td>\n",
       "      <td>1.473300</td>\n",
       "      <td>1.558116</td>\n",
       "    </tr>\n",
       "    <tr>\n",
       "      <td>138</td>\n",
       "      <td>1.720300</td>\n",
       "      <td>1.494418</td>\n",
       "    </tr>\n",
       "    <tr>\n",
       "      <td>184</td>\n",
       "      <td>1.507800</td>\n",
       "      <td>1.453456</td>\n",
       "    </tr>\n",
       "    <tr>\n",
       "      <td>230</td>\n",
       "      <td>1.613800</td>\n",
       "      <td>1.423345</td>\n",
       "    </tr>\n",
       "    <tr>\n",
       "      <td>276</td>\n",
       "      <td>1.512100</td>\n",
       "      <td>1.397536</td>\n",
       "    </tr>\n",
       "    <tr>\n",
       "      <td>322</td>\n",
       "      <td>1.354100</td>\n",
       "      <td>1.374594</td>\n",
       "    </tr>\n",
       "    <tr>\n",
       "      <td>368</td>\n",
       "      <td>1.329700</td>\n",
       "      <td>1.353431</td>\n",
       "    </tr>\n",
       "    <tr>\n",
       "      <td>414</td>\n",
       "      <td>1.325600</td>\n",
       "      <td>1.333605</td>\n",
       "    </tr>\n",
       "    <tr>\n",
       "      <td>460</td>\n",
       "      <td>1.337600</td>\n",
       "      <td>1.314340</td>\n",
       "    </tr>\n",
       "  </tbody>\n",
       "</table><p>"
      ],
      "text/plain": [
       "<IPython.core.display.HTML object>"
      ]
     },
     "metadata": {},
     "output_type": "display_data"
    },
    {
     "data": {
      "text/plain": [
       "TrainOutput(global_step=460, training_loss=1.4794208067914714, metrics={'train_runtime': 2099.4632, 'train_samples_per_second': 3.558, 'train_steps_per_second': 0.219, 'total_flos': 1.0535074097108582e+17, 'train_loss': 1.4794208067914714, 'epoch': 9.79144385026738})"
      ]
     },
     "execution_count": 5,
     "metadata": {},
     "output_type": "execute_result"
    }
   ],
   "source": [
    "# Hyperparemeters\n",
    "BS = 4  # batch size\n",
    "GA_STEPS = 4  # gradient acc. steps\n",
    "EPOCHS = 10\n",
    "LR = 2e-5\n",
    "\n",
    "steps_per_epoch = len(dataset_tokenized[\"train\"]) // (BS * GA_STEPS)\n",
    "\n",
    "args = TrainingArguments(\n",
    "    output_dir=\"qlora_checkpoints\",\n",
    "    per_device_train_batch_size=BS,\n",
    "    per_device_eval_batch_size=BS,\n",
    "    eval_strategy=\"steps\",\n",
    "    logging_steps=1,\n",
    "    eval_steps=steps_per_epoch * 1,  # eval once per epoch\n",
    "    save_steps=steps_per_epoch * 1,  # save once per epoch\n",
    "    gradient_accumulation_steps=GA_STEPS,\n",
    "    num_train_epochs=EPOCHS,\n",
    "    lr_scheduler_type=\"constant\",\n",
    "    optim=\"paged_adamw_32bit\",\n",
    "    learning_rate=LR,\n",
    "    group_by_length=True,\n",
    "    bf16=True,\n",
    "    ddp_find_unused_parameters=False,\n",
    "    gradient_checkpointing=True,\n",
    "    gradient_checkpointing_kwargs={\"use_reentrant\": False},\n",
    ")\n",
    "\n",
    "trainer = Trainer(\n",
    "    model=model,\n",
    "    tokenizer=tokenizer,\n",
    "    args=args,\n",
    "    data_collator=collate,\n",
    "    train_dataset=dataset_tokenized[\"train\"],\n",
    "    eval_dataset=dataset_tokenized[\"train\"],\n",
    ")\n",
    "\n",
    "# training loop\n",
    "trainer.train()"
   ]
  }
 ],
 "metadata": {
  "kernelspec": {
   "display_name": "bdml",
   "language": "python",
   "name": "python3"
  },
  "language_info": {
   "codemirror_mode": {
    "name": "ipython",
    "version": 3
   },
   "file_extension": ".py",
   "mimetype": "text/x-python",
   "name": "python",
   "nbconvert_exporter": "python",
   "pygments_lexer": "ipython3",
   "version": "3.12.9"
  }
 },
 "nbformat": 4,
 "nbformat_minor": 2
}
