{
 "cells": [
  {
   "cell_type": "code",
   "execution_count": 1,
   "metadata": {},
   "outputs": [
    {
     "name": "stderr",
     "output_type": "stream",
     "text": [
      "/home/ddp8196/miniconda3/envs/bdml/lib/python3.12/site-packages/tqdm/auto.py:21: TqdmWarning: IProgress not found. Please update jupyter and ipywidgets. See https://ipywidgets.readthedocs.io/en/stable/user_install.html\n",
      "  from .autonotebook import tqdm as notebook_tqdm\n"
     ]
    }
   ],
   "source": [
    "from transformers import AutoTokenizer, AutoModelForCausalLM, TextStreamer\n",
    "from langchain.text_splitter import CharacterTextSplitter\n",
    "from sentence_transformers import SentenceTransformer\n",
    "from tqdm import tqdm\n",
    "import numpy as np\n",
    "import torch\n",
    "import faiss\n",
    "import json\n",
    "import math\n",
    "import time\n",
    "import os\n",
    "\n",
    "ENCODER_PATH = \"../../bge-small-en\"\n",
    "DEVICE = torch.device(\"cuda:0\" if torch.cuda.is_available() else \"cpu\")\n",
    "\n",
    "DOCS_PATH = \"../../dataset_txt/train\"\n",
    "QUESTIONS_PATH = \"../rag_questions_json\""
   ]
  },
  {
   "cell_type": "code",
   "execution_count": 2,
   "metadata": {},
   "outputs": [],
   "source": [
    "class LLMEngine:\n",
    "    def __init__(self):\n",
    "        self.encoder = SentenceTransformer(ENCODER_PATH).to(DEVICE)\n",
    "\n",
    "    def embed_documents(self, docs):\n",
    "        return self.encoder.encode(docs)\n",
    "\n",
    "    def embed_queries(self, queries):\n",
    "        return self.encoder.encode([q[1][\"question\"] for q in queries])\n",
    "    \n",
    "engine = LLMEngine()"
   ]
  },
  {
   "cell_type": "code",
   "execution_count": 3,
   "metadata": {},
   "outputs": [
    {
     "name": "stderr",
     "output_type": "stream",
     "text": [
      "100%|██████████| 10858/10858 [01:10<00:00, 154.65it/s]\n",
      "100%|██████████| 747/747 [00:00<00:00, 2327.56it/s]\n"
     ]
    }
   ],
   "source": [
    "docs = [(fn.split(\".\")[0], open(os.path.join(DOCS_PATH, fn), 'r', encoding='utf-8').read()) for fn in tqdm(os.listdir(DOCS_PATH)) if fn.endswith(\".txt\")]\n",
    "queries = [(fn.split(\".\")[0], json.load(open(os.path.join(QUESTIONS_PATH, fn), 'r', encoding='utf-8'))) for fn in tqdm(os.listdir(QUESTIONS_PATH)) if fn.endswith(\".json\")]"
   ]
  },
  {
   "cell_type": "code",
   "execution_count": 4,
   "metadata": {},
   "outputs": [
    {
     "name": "stderr",
     "output_type": "stream",
     "text": [
      "100%|██████████| 10858/10858 [00:12<00:00, 862.74it/s]"
     ]
    },
    {
     "name": "stdout",
     "output_type": "stream",
     "text": [
      "Number of documents: 23924\n"
     ]
    },
    {
     "name": "stderr",
     "output_type": "stream",
     "text": [
      "\n"
     ]
    }
   ],
   "source": [
    "MAX_CHAR_LEN = 4000\n",
    "MAX_CHAR_OVERLAP = 500\n",
    "splitter = CharacterTextSplitter(separator=\" \", chunk_size=MAX_CHAR_LEN, chunk_overlap=MAX_CHAR_OVERLAP)\n",
    "split_docs = []\n",
    "for doc in tqdm(docs):\n",
    "    split_docs.extend(splitter.split_text(doc[1]) if len(doc[1]) > MAX_CHAR_LEN else [doc[1]])\n",
    "print(f\"Number of documents: {len(split_docs)}\")"
   ]
  },
  {
   "cell_type": "code",
   "execution_count": 5,
   "metadata": {},
   "outputs": [],
   "source": [
    "doc_embeddings = engine.embed_documents(split_docs)\n",
    "query_embeddings = engine.embed_queries(queries)"
   ]
  },
  {
   "cell_type": "markdown",
   "metadata": {},
   "source": [
    "### FlatIP (Exhaustive)"
   ]
  },
  {
   "cell_type": "code",
   "execution_count": 6,
   "metadata": {},
   "outputs": [
    {
     "name": "stderr",
     "output_type": "stream",
     "text": [
      "100%|██████████| 747/747 [00:01<00:00, 435.34it/s]"
     ]
    },
    {
     "name": "stdout",
     "output_type": "stream",
     "text": [
      "Total time to index all questions (FlatIP): 1.72 seconds\n"
     ]
    },
    {
     "name": "stderr",
     "output_type": "stream",
     "text": [
      "\n"
     ]
    }
   ],
   "source": [
    "TOP_K_DOCS = 3\n",
    "D = doc_embeddings.shape[1]\n",
    "quantizer = faiss.IndexFlatIP(D)\n",
    "index_flatip = faiss.IndexFlatIP(D)\n",
    "index_flatip.add(doc_embeddings)\n",
    "\n",
    "begin = time.time()\n",
    "\n",
    "for q in tqdm(query_embeddings):\n",
    "    distances, indices = index_flatip.search(q[np.newaxis, :], TOP_K_DOCS)\n",
    "\n",
    "print(f\"Total time to index all questions (FlatIP): {(time.time() - begin):.2f} seconds\")"
   ]
  },
  {
   "cell_type": "markdown",
   "metadata": {},
   "source": [
    "### PQ"
   ]
  },
  {
   "cell_type": "code",
   "execution_count": 7,
   "metadata": {},
   "outputs": [
    {
     "name": "stderr",
     "output_type": "stream",
     "text": [
      "100%|██████████| 747/747 [00:00<00:00, 936.53it/s]"
     ]
    },
    {
     "name": "stdout",
     "output_type": "stream",
     "text": [
      "Total time to index all questions (PQ): 0.80 seconds\n"
     ]
    },
    {
     "name": "stderr",
     "output_type": "stream",
     "text": [
      "\n"
     ]
    }
   ],
   "source": [
    "TOP_K_DOCS = 3\n",
    "D = doc_embeddings.shape[1]\n",
    "m = 8\n",
    "assert D % m == 0\n",
    "nbits = 5\n",
    "index_pq = faiss.IndexPQ(D, m, nbits)\n",
    "index_pq.train(doc_embeddings)\n",
    "index_pq.add(doc_embeddings)\n",
    "\n",
    "begin = time.time()\n",
    "\n",
    "for q in tqdm(query_embeddings):\n",
    "    distances, indices = index_pq.search(q[np.newaxis, :], TOP_K_DOCS)\n",
    "\n",
    "print(f\"Total time to index all questions (PQ): {(time.time() - begin):.2f} seconds\")"
   ]
  },
  {
   "cell_type": "markdown",
   "metadata": {},
   "source": [
    "### IVFPQ"
   ]
  },
  {
   "cell_type": "code",
   "execution_count": 8,
   "metadata": {},
   "outputs": [
    {
     "name": "stderr",
     "output_type": "stream",
     "text": [
      "100%|██████████| 747/747 [00:00<00:00, 15862.74it/s]"
     ]
    },
    {
     "name": "stdout",
     "output_type": "stream",
     "text": [
      "Total time to index all questions (IVFPQ): 0.05 seconds\n"
     ]
    },
    {
     "name": "stderr",
     "output_type": "stream",
     "text": [
      "\n"
     ]
    }
   ],
   "source": [
    "TOP_K_DOCS = 3\n",
    "D = doc_embeddings.shape[1]\n",
    "m = 8\n",
    "assert D % m == 0\n",
    "nlist = 2**5\n",
    "nbits = 5\n",
    "quantizer = faiss.IndexFlatIP(D)\n",
    "index_ivfpq = faiss.IndexIVFPQ(quantizer, D, nlist, m, nbits)\n",
    "index_ivfpq.train(doc_embeddings)\n",
    "index_ivfpq.add(doc_embeddings)\n",
    "\n",
    "begin = time.time()\n",
    "\n",
    "for q in tqdm(query_embeddings):\n",
    "    distances, indices = index_ivfpq.search(q[np.newaxis, :], TOP_K_DOCS)\n",
    "\n",
    "print(f\"Total time to index all questions (IVFPQ): {(time.time() - begin):.2f} seconds\")"
   ]
  },
  {
   "cell_type": "markdown",
   "metadata": {},
   "source": [
    "### HNSW"
   ]
  },
  {
   "cell_type": "code",
   "execution_count": 9,
   "metadata": {},
   "outputs": [
    {
     "name": "stderr",
     "output_type": "stream",
     "text": [
      "100%|██████████| 747/747 [00:00<00:00, 12304.02it/s]"
     ]
    },
    {
     "name": "stdout",
     "output_type": "stream",
     "text": [
      "Total time to index all questions (HNSW): 0.06 seconds\n"
     ]
    },
    {
     "name": "stderr",
     "output_type": "stream",
     "text": [
      "\n"
     ]
    }
   ],
   "source": [
    "TOP_K_DOCS = 3\n",
    "D = doc_embeddings.shape[1]\n",
    "M = 32\n",
    "index_hnsw = faiss.IndexHNSWFlat(D, M)\n",
    "index_hnsw.add(doc_embeddings)\n",
    "\n",
    "begin = time.time()\n",
    "\n",
    "for q in tqdm(query_embeddings):\n",
    "    distances, indices = index_hnsw.search(q[np.newaxis, :], TOP_K_DOCS)\n",
    "\n",
    "print(f\"Total time to index all questions (HNSW): {(time.time() - begin):.2f} seconds\")"
   ]
  }
 ],
 "metadata": {
  "kernelspec": {
   "display_name": "bdml",
   "language": "python",
   "name": "python3"
  },
  "language_info": {
   "codemirror_mode": {
    "name": "ipython",
    "version": 3
   },
   "file_extension": ".py",
   "mimetype": "text/x-python",
   "name": "python",
   "nbconvert_exporter": "python",
   "pygments_lexer": "ipython3",
   "version": "3.12.9"
  },
  "orig_nbformat": 4
 },
 "nbformat": 4,
 "nbformat_minor": 2
}
