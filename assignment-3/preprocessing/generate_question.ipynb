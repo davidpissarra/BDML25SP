{
 "cells": [
  {
   "cell_type": "code",
   "execution_count": 7,
   "id": "c2b008da",
   "metadata": {},
   "outputs": [],
   "source": [
    "from transformers import AutoTokenizer, AutoModelForCausalLM, TextStreamer\n",
    "from langchain.text_splitter import CharacterTextSplitter\n",
    "from tqdm import tqdm\n",
    "import numpy as np\n",
    "import torch\n",
    "import faiss\n",
    "import json\n",
    "import os\n",
    "\n",
    "MODEL_PATH='../Llama-3.1-8B-Instruct'\n",
    "DEVICE = torch.device(\"cuda:0\" if torch.cuda.is_available() else \"cpu\")\n",
    "\n",
    "DOCS_PATH = \"../dataset_txt_small/train\"\n",
    "QUESTIONS_PATH = \"./rag_questions_json\""
   ]
  },
  {
   "cell_type": "code",
   "execution_count": 2,
   "id": "cc317583",
   "metadata": {},
   "outputs": [
    {
     "name": "stderr",
     "output_type": "stream",
     "text": [
      "Loading checkpoint shards: 100%|██████████| 4/4 [00:00<00:00, 56.26it/s]\n"
     ]
    }
   ],
   "source": [
    "model = AutoModelForCausalLM.from_pretrained(MODEL_PATH, torch_dtype=torch.bfloat16).to(DEVICE)\n",
    "tokenizer = AutoTokenizer.from_pretrained(MODEL_PATH)"
   ]
  },
  {
   "cell_type": "code",
   "execution_count": 3,
   "id": "8b4af005",
   "metadata": {},
   "outputs": [
    {
     "name": "stderr",
     "output_type": "stream",
     "text": [
      "100%|██████████| 747/747 [00:00<00:00, 2355.98it/s]\n"
     ]
    }
   ],
   "source": [
    "DOCS_PATH = \"../dataset_txt_small/train\"\n",
    "docs = [(fn, open(os.path.join(DOCS_PATH, fn), 'r', encoding='utf-8').read()) for fn in tqdm(os.listdir(DOCS_PATH)) if fn.endswith(\".txt\")]"
   ]
  },
  {
   "cell_type": "code",
   "execution_count": 4,
   "id": "c9bfd842",
   "metadata": {},
   "outputs": [],
   "source": [
    "def create_chat(question):\n",
    "    return [\n",
    "        {\"role\": \"user\", \"content\": f\"{question}\"},\n",
    "    ]"
   ]
  },
  {
   "cell_type": "code",
   "execution_count": 9,
   "id": "21a0a3da",
   "metadata": {},
   "outputs": [
    {
     "name": "stderr",
     "output_type": "stream",
     "text": [
      "100%|██████████| 747/747 [00:00<00:00, 34871.23it/s]\n"
     ]
    }
   ],
   "source": [
    "template = \"Please create a complex but medium/short question and respective answer (in JSON format, \\\"question\\\" and \\\"answer\\\" fields) for the following text:\\n\\n\\\"{context}\\\".\"\n",
    "\n",
    "# create folder (with exists_ok = True)\n",
    "os.makedirs(QUESTIONS_PATH, exist_ok=True)\n",
    "\n",
    "for d in tqdm(docs):\n",
    "    if not os.path.exists(os.path.join(QUESTIONS_PATH, f\"{d[0].split('.')[0]}.json\")):\n",
    "        prompt_with_context = tokenizer.apply_chat_template(\n",
    "            create_chat(template.format(context=d[1])), \n",
    "            tokenize=False, \n",
    "            add_generation_prompt=True\n",
    "        )\n",
    "\n",
    "        input_ids = tokenizer.encode(prompt_with_context, return_tensors=\"pt\").to(DEVICE)\n",
    "        prompt_len = input_ids.shape[1]\n",
    "        output_ids = model.generate(\n",
    "            input_ids,\n",
    "            max_new_tokens=1000,\n",
    "            pad_token_id=128004,\n",
    "            eos_token_id=128009,\n",
    "            do_sample=False,\n",
    "            top_p=1.0,\n",
    "        )[:, prompt_len:]\n",
    "        output_json = tokenizer.decode(output_ids[0], skip_special_tokens=True)\n",
    "        first_brace, last_brace = output_json.find(\"{\"), output_json.find(\"}\")\n",
    "        json_str = output_json[first_brace:last_brace+1]\n",
    "\n",
    "        try:\n",
    "            json_obj = json.loads(json_str)\n",
    "            assert \"question\" in json_obj\n",
    "            assert \"answer\" in json_obj\n",
    "            \n",
    "            with open(os.path.join(QUESTIONS_PATH, f\"{d[0].split(\".\")[0]}.json\"), \"w\", encoding=\"utf-8\") as f:\n",
    "                json.dump(json_obj, f, ensure_ascii=False, indent=4)\n",
    "        except json.JSONDecodeError as e:\n",
    "            print(f\"Failed to parse JSON: {e}\")"
   ]
  }
 ],
 "metadata": {
  "kernelspec": {
   "display_name": "bdml",
   "language": "python",
   "name": "python3"
  },
  "language_info": {
   "codemirror_mode": {
    "name": "ipython",
    "version": 3
   },
   "file_extension": ".py",
   "mimetype": "text/x-python",
   "name": "python",
   "nbconvert_exporter": "python",
   "pygments_lexer": "ipython3",
   "version": "3.12.9"
  }
 },
 "nbformat": 4,
 "nbformat_minor": 5
}
