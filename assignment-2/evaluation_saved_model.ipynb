{
 "cells": [
  {
   "cell_type": "code",
   "execution_count": 1,
   "metadata": {},
   "outputs": [
    {
     "name": "stderr",
     "output_type": "stream",
     "text": [
      "/scratch/ddp8196/miniconda3/lib/python3.12/site-packages/tqdm/auto.py:21: TqdmWarning: IProgress not found. Please update jupyter and ipywidgets. See https://ipywidgets.readthedocs.io/en/stable/user_install.html\n",
      "  from .autonotebook import tqdm as notebook_tqdm\n"
     ]
    }
   ],
   "source": [
    "import os\n",
    "import math\n",
    "import torch\n",
    "from transformers import AutoModelForCausalLM, AutoTokenizer\n",
    "from tqdm import tqdm\n",
    "\n",
    "# Load fine-tuned LLaMA model (Replace with your model path)\n",
    "tokenizer_path = \"../Llama-3.2-3B\"\n",
    "ds_folder = \"./dataset_txt_small/test\"\n",
    "tokenizer = AutoTokenizer.from_pretrained(tokenizer_path)\n",
    "tokenizer.pad_token = tokenizer.eos_token\n",
    "\n",
    "def compute_perplexity(checkpoint_path):\n",
    "    model = AutoModelForCausalLM.from_pretrained(checkpoint_path)\n",
    "    files = os.listdir(ds_folder)\n",
    "    BATCH_SIZE = 1\n",
    "    N_FILES = len(files)\n",
    "\n",
    "    device = \"cuda\"\n",
    "    model.to(device)\n",
    "\n",
    "    loss = 0\n",
    "    losses = list()\n",
    "    for i in tqdm(range((N_FILES-1)//BATCH_SIZE+1)):\n",
    "        evaluation_texts = list()\n",
    "        for filename in files[i*BATCH_SIZE:(i+1)*BATCH_SIZE]:\n",
    "            with open(os.path.join(ds_folder, filename), 'r') as file:\n",
    "                evaluation_texts.append(file.read())\n",
    "        tokens = tokenizer(evaluation_texts, return_tensors=\"pt\", truncation=False, padding=False, add_special_tokens=False)\n",
    "        tokens = {k: v.to(device) for k, v in tokens.items()}\n",
    "        # Compute loss\n",
    "        with torch.no_grad():\n",
    "            outputs = model(**tokens, labels=tokens[\"input_ids\"])\n",
    "            losses.append(outputs.loss.item())\n",
    "            loss += outputs.loss.item() * len(evaluation_texts)\n",
    "\n",
    "    # Compute perplexity\n",
    "    perplexity = math.exp(loss/N_FILES)\n",
    "    print(f\"Perplexity: {perplexity:.2f}\")"
   ]
  },
  {
   "cell_type": "code",
   "execution_count": 2,
   "metadata": {},
   "outputs": [
    {
     "name": "stderr",
     "output_type": "stream",
     "text": [
      "Loading checkpoint shards: 100%|██████████| 2/2 [00:26<00:00, 13.36s/it]\n",
      "100%|██████████| 83/83 [00:53<00:00,  1.56it/s]"
     ]
    },
    {
     "name": "stdout",
     "output_type": "stream",
     "text": [
      "Perplexity: 9.37\n"
     ]
    },
    {
     "name": "stderr",
     "output_type": "stream",
     "text": [
      "\n"
     ]
    }
   ],
   "source": [
    "compute_perplexity(\"./checkpoints/epoch_10\")"
   ]
  },
  {
   "cell_type": "code",
   "execution_count": 3,
   "metadata": {},
   "outputs": [
    {
     "name": "stderr",
     "output_type": "stream",
     "text": [
      "Loading checkpoint shards: 100%|██████████| 2/2 [00:26<00:00, 13.34s/it]\n",
      "100%|██████████| 83/83 [00:51<00:00,  1.60it/s]"
     ]
    },
    {
     "name": "stdout",
     "output_type": "stream",
     "text": [
      "Perplexity: 9.37\n"
     ]
    },
    {
     "name": "stderr",
     "output_type": "stream",
     "text": [
      "\n"
     ]
    }
   ],
   "source": [
    "compute_perplexity(\"./dp_checkpoints/epoch_10\")"
   ]
  }
 ],
 "metadata": {
  "kernelspec": {
   "display_name": "base",
   "language": "python",
   "name": "python3"
  },
  "language_info": {
   "codemirror_mode": {
    "name": "ipython",
    "version": 3
   },
   "file_extension": ".py",
   "mimetype": "text/x-python",
   "name": "python",
   "nbconvert_exporter": "python",
   "pygments_lexer": "ipython3",
   "version": "3.12.9"
  }
 },
 "nbformat": 4,
 "nbformat_minor": 2
}
